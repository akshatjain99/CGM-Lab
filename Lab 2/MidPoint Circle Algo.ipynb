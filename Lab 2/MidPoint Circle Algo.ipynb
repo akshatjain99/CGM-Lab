{
 "cells": [
  {
   "cell_type": "code",
   "execution_count": 12,
   "metadata": {},
   "outputs": [],
   "source": [
    "from graphics import *\n",
    "from math import *\n",
    "win = GraphWin(\"MidPoint Circle Algo\", 1000, 1000)"
   ]
  },
  {
   "cell_type": "code",
   "execution_count": 6,
   "metadata": {},
   "outputs": [],
   "source": [
    "def midPointCircleDraw(xc,yc, r):\n",
    "    x = r \n",
    "    y = 0\n",
    "    Point(x+xc,y+yc).draw(win)\n",
    "    if (r > 0):\n",
    "        Point(x+xc,-y+yc).draw(win)\n",
    "        Point(y+xc,x+yc).draw(win)\n",
    "        Point(-y+xc,x+yc).draw(win)\n",
    "    P = 1 - r  \n",
    "    while (x > y) : \n",
    "        y += 1\n",
    "        if (P <= 0):  \n",
    "            P = P + 2 * y + 1\n",
    "        else:          \n",
    "            x -= 1\n",
    "            P = P + 2 * y - 2 * x + 1\n",
    "        if (x < y): \n",
    "            break\n",
    "        Point(x+xc,y+yc).draw(win)\n",
    "        Point(-x+xc,y+yc).draw(win)\n",
    "        Point(x+xc,-y+yc).draw(win)\n",
    "        Point(-x+xc,-y+yc).draw(win)\n",
    "        if (x != y) : \n",
    "            Point(y+xc,x+yc).draw(win)\n",
    "            Point(-y+xc,x+yc).draw(win)\n",
    "            Point(y+xc,-x+yc).draw(win)\n",
    "            Point(-y+xc,-x+yc).draw(win)\n",
    "\n"
   ]
  },
  {
   "cell_type": "code",
   "execution_count": 13,
   "metadata": {},
   "outputs": [],
   "source": [
    "midPointCircleDraw(500,500,200)\n",
    "win.getMouse()\n",
    "win.close()"
   ]
  },
  {
   "cell_type": "code",
   "execution_count": 8,
   "metadata": {},
   "outputs": [],
   "source": []
  },
  {
   "cell_type": "code",
   "execution_count": null,
   "metadata": {},
   "outputs": [],
   "source": []
  }
 ],
 "metadata": {
  "kernelspec": {
   "display_name": "Python 3",
   "language": "python",
   "name": "python3"
  },
  "language_info": {
   "codemirror_mode": {
    "name": "ipython",
    "version": 3
   },
   "file_extension": ".py",
   "mimetype": "text/x-python",
   "name": "python",
   "nbconvert_exporter": "python",
   "pygments_lexer": "ipython3",
   "version": "3.7.0"
  }
 },
 "nbformat": 4,
 "nbformat_minor": 2
}
