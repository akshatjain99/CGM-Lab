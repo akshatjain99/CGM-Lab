{
 "cells": [
  {
   "cell_type": "code",
   "execution_count": 10,
   "metadata": {},
   "outputs": [],
   "source": [
    "from graphics import *\n",
    "win = GraphWin(\"MidPoint Ellipse Algo\", 1000, 1000)"
   ]
  },
  {
   "cell_type": "code",
   "execution_count": 3,
   "metadata": {},
   "outputs": [],
   "source": [
    "def midpointEllipse(rx, ry, xc, yc):\n",
    "    x = 0  \n",
    "    y = ry  \n",
    "    d1 = ((ry * ry) - (rx * rx * ry) +(0.25 * rx * rx))  \n",
    "    dx = 2 * ry * ry * x\n",
    "    dy = 2 * rx * rx * y  \n",
    "    while (dx < dy):  \n",
    "        Point(x+xc,y+yc).draw(win)\n",
    "        Point(-x+xc,y+yc).draw(win)\n",
    "        Point(x+xc,-y+yc).draw(win)\n",
    "        Point(-x+xc,-y+yc).draw(win)\n",
    "   \n",
    "        if (d1 < 0):  \n",
    "            x += 1\n",
    "            dx = dx + (2 * ry * ry)  \n",
    "            d1 = d1 + dx + (ry * ry)  \n",
    "        else: \n",
    "            x += 1  \n",
    "            y -= 1  \n",
    "            dx = dx + (2 * ry * ry)  \n",
    "            dy = dy - (2 * rx * rx)  \n",
    "            d1 = d1 + dx - dy + (ry * ry)  \n",
    "  \n",
    "    d2 = (((ry * ry) * ((x + 0.5) * (x + 0.5))) + ((rx * rx) * ((y - 1) * (y - 1))) - (rx * rx * ry * ry)) \n",
    "\n",
    "    while (y >= 0): \n",
    "  \n",
    "        Point(x+xc,y+yc).draw(win)\n",
    "        Point(-x+xc,y+yc).draw(win)\n",
    "        Point(x+xc,-y+yc).draw(win)\n",
    "        Point(-x+xc,-y+yc).draw(win)\n",
    "\n",
    "        if (d2 > 0):\n",
    "            y -= 1  \n",
    "            dy = dy - (2 * rx * rx)  \n",
    "            d2 = d2 + (rx * rx) - dy  \n",
    "        else: \n",
    "            y -= 1\n",
    "            x += 1  \n",
    "            dx = dx + (2 * ry * ry)\n",
    "            dy = dy - (2 * rx * rx)  \n",
    "            d2 = d2 + dx - dy + (rx * rx)\n",
    "\n"
   ]
  },
  {
   "cell_type": "code",
   "execution_count": 11,
   "metadata": {},
   "outputs": [],
   "source": [
    "midpointEllipse(300,100,500,500)\n",
    "win.getMouse()\n",
    "win.close() "
   ]
  },
  {
   "cell_type": "code",
   "execution_count": 5,
   "metadata": {},
   "outputs": [],
   "source": []
  },
  {
   "cell_type": "code",
   "execution_count": null,
   "metadata": {},
   "outputs": [],
   "source": []
  }
 ],
 "metadata": {
  "kernelspec": {
   "display_name": "Python 3",
   "language": "python",
   "name": "python3"
  },
  "language_info": {
   "codemirror_mode": {
    "name": "ipython",
    "version": 3
   },
   "file_extension": ".py",
   "mimetype": "text/x-python",
   "name": "python",
   "nbconvert_exporter": "python",
   "pygments_lexer": "ipython3",
   "version": "3.7.0"
  }
 },
 "nbformat": 4,
 "nbformat_minor": 2
}
