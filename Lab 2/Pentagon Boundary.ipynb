{
 "cells": [
  {
   "cell_type": "code",
   "execution_count": 4,
   "metadata": {},
   "outputs": [],
   "source": [
    "from graphics import *\n",
    "win = GraphWin(\"Pentagon Boundary\", 1000, 1000)"
   ]
  },
  {
   "cell_type": "code",
   "execution_count": 5,
   "metadata": {},
   "outputs": [
    {
     "data": {
      "text/plain": [
       "Line(Point(150.0, 200.0), Point(250.0, 100.0))"
      ]
     },
     "execution_count": 5,
     "metadata": {},
     "output_type": "execute_result"
    }
   ],
   "source": [
    "line1 = Line(Point(250,100),Point(250+100,100+100))\n",
    "line1.setFill(\"red\")\n",
    "line1.draw(win)\n",
    "\n",
    "line2 = Line(Point(250+100,100+100),Point(250+100,100+100+100))\n",
    "line2.setFill(\"green\")\n",
    "line2.draw(win)\n",
    "\n",
    "line3 = Line(Point(250+100,100+100+100),Point(250-100,100+100+100))\n",
    "line3.setFill(\"blue\")\n",
    "line3.draw(win)\n",
    "\n",
    "line4 = Line(Point(250-100,100+100+100),Point(250-100,100+100))\n",
    "line4.setFill(\"red\")\n",
    "line4.draw(win)\n",
    "\n",
    "line5 = Line(Point(250-100,100+100),Point(250,100))\n",
    "line5.setFill(\"green\")\n",
    "line5.draw(win)\n"
   ]
  },
  {
   "cell_type": "code",
   "execution_count": 6,
   "metadata": {},
   "outputs": [],
   "source": [
    "win.getMouse() \n",
    "win.close()"
   ]
  },
  {
   "cell_type": "code",
   "execution_count": null,
   "metadata": {},
   "outputs": [],
   "source": []
  }
 ],
 "metadata": {
  "kernelspec": {
   "display_name": "Python 3",
   "language": "python",
   "name": "python3"
  },
  "language_info": {
   "codemirror_mode": {
    "name": "ipython",
    "version": 3
   },
   "file_extension": ".py",
   "mimetype": "text/x-python",
   "name": "python",
   "nbconvert_exporter": "python",
   "pygments_lexer": "ipython3",
   "version": "3.7.0"
  }
 },
 "nbformat": 4,
 "nbformat_minor": 2
}
