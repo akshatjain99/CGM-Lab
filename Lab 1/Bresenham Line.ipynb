{
 "cells": [
  {
   "cell_type": "code",
   "execution_count": null,
   "metadata": {},
   "outputs": [],
   "source": [
    "from graphics import *\n",
    "win = GraphWin(\"Bresenham Line 2\",1000, 1000)"
   ]
  },
  {
   "cell_type": "code",
   "execution_count": null,
   "metadata": {},
   "outputs": [],
   "source": []
  },
  {
   "cell_type": "code",
   "execution_count": null,
   "metadata": {},
   "outputs": [],
   "source": [
    "x1=int(input(\"enter x1 \"))\n",
    "y1=int(input(\"enter y1 \"))\n",
    "x2=int(input(\"enter x2 \"))\n",
    "y2=int(input(\"enter y2 \"))"
   ]
  },
  {
   "cell_type": "code",
   "execution_count": null,
   "metadata": {},
   "outputs": [],
   "source": [
    "dx=x2-x1\n",
    "dy=y2-y1\n",
    "x=x1\n",
    "y = y1\n",
    "m=dy/dx\n"
   ]
  },
  {
   "cell_type": "code",
   "execution_count": null,
   "metadata": {},
   "outputs": [],
   "source": [
    "if m > 1:\n",
    "    dx, dy = dy, dx\n",
    "    x, y = y, x\n",
    "    x1, y1 = y1, x1\n",
    "    x2, y2 = y2, x2\n"
   ]
  },
  {
   "cell_type": "code",
   "execution_count": null,
   "metadata": {},
   "outputs": [],
   "source": [
    "p=2*dy-dx\n",
    "print(m,p)"
   ]
  },
  {
   "cell_type": "code",
   "execution_count": null,
   "metadata": {},
   "outputs": [],
   "source": [
    "while x<x2:\n",
    "    if(p>=0):      \n",
    "        pt = Point(x, y)\n",
    "        pt.draw(win)\n",
    "        y=y+1\n",
    "        p=p+2*dy-2*dx   \n",
    "    else:       \n",
    "        pt = Point(x, y)\n",
    "        pt.draw(win)\n",
    "        p=p+2*dy\n",
    "        \n",
    "    x=x+1\n",
    "    "
   ]
  },
  {
   "cell_type": "code",
   "execution_count": null,
   "metadata": {},
   "outputs": [],
   "source": [
    "win.getMouse()\n",
    "win.close()"
   ]
  },
  {
   "cell_type": "code",
   "execution_count": null,
   "metadata": {},
   "outputs": [],
   "source": []
  },
  {
   "cell_type": "code",
   "execution_count": null,
   "metadata": {},
   "outputs": [],
   "source": []
  }
 ],
 "metadata": {
  "kernelspec": {
   "display_name": "Python 3",
   "language": "python",
   "name": "python3"
  },
  "language_info": {
   "codemirror_mode": {
    "name": "ipython",
    "version": 3
   },
   "file_extension": ".py",
   "mimetype": "text/x-python",
   "name": "python",
   "nbconvert_exporter": "python",
   "pygments_lexer": "ipython3",
   "version": "3.7.0"
  }
 },
 "nbformat": 4,
 "nbformat_minor": 2
}
