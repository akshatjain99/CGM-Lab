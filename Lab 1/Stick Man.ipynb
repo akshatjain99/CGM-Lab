{
 "cells": [
  {
   "cell_type": "code",
   "execution_count": 5,
   "metadata": {},
   "outputs": [],
   "source": [
    "from graphics import *\n",
    "\n",
    "win = GraphWin(\"Stick man\",1000, 1000) "
   ]
  },
  {
   "cell_type": "code",
   "execution_count": null,
   "metadata": {},
   "outputs": [],
   "source": [
    "Man()\n",
    "win.getMouse()"
   ]
  },
  {
   "cell_type": "code",
   "execution_count": 2,
   "metadata": {},
   "outputs": [],
   "source": [
    "def Man():\n",
    "    Circle(Point(300, 100), 50).draw(win)\n",
    "    Line(Point(300,150),Point(300,250)).draw(win)\n",
    "    Line(Point(300,250),Point(200,350)).draw(win)\n",
    "    Line(Point(300,250),Point(400,350)).draw(win)\n",
    "    Line(Point(300,200),Point(200,100)).draw(win)\n",
    "    Line(Point(300,200),Point(400,100)).draw(win)"
   ]
  },
  {
   "cell_type": "code",
   "execution_count": 4,
   "metadata": {},
   "outputs": [],
   "source": [
    "win.close()"
   ]
  },
  {
   "cell_type": "code",
   "execution_count": null,
   "metadata": {},
   "outputs": [],
   "source": []
  }
 ],
 "metadata": {
  "kernelspec": {
   "display_name": "Python 3",
   "language": "python",
   "name": "python3"
  },
  "language_info": {
   "codemirror_mode": {
    "name": "ipython",
    "version": 3
   },
   "file_extension": ".py",
   "mimetype": "text/x-python",
   "name": "python",
   "nbconvert_exporter": "python",
   "pygments_lexer": "ipython3",
   "version": "3.7.0"
  }
 },
 "nbformat": 4,
 "nbformat_minor": 2
}
