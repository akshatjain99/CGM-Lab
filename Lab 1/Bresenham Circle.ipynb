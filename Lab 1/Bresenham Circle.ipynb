{
 "cells": [
  {
   "cell_type": "code",
   "execution_count": 3,
   "metadata": {},
   "outputs": [],
   "source": [
    "from graphics import *\n",
    "\n",
    "win = GraphWin(\"Bresenham Circle\",1000, 1000)"
   ]
  },
  {
   "cell_type": "code",
   "execution_count": 2,
   "metadata": {},
   "outputs": [],
   "source": [
    "win.close()"
   ]
  },
  {
   "cell_type": "code",
   "execution_count": null,
   "metadata": {},
   "outputs": [
    {
     "name": "stdout",
     "output_type": "stream",
     "text": [
      "enter xc 500\n",
      "enter yc 500\n",
      "enter r 100\n"
     ]
    }
   ],
   "source": [
    "xc=int(input(\"enter xc \"))\n",
    "yc=int(input(\"enter yc \"))\n",
    "r=int(input(\"enter r \"))\n",
    "\n",
    "bresCircle(xc, yc, r)\n",
    "\n",
    "win.getMouse()\n",
    "win.close()    "
   ]
  },
  {
   "cell_type": "code",
   "execution_count": 4,
   "metadata": {},
   "outputs": [],
   "source": [
    "def bresCircle(xc, yc, r):\n",
    " \n",
    "    x = 0\n",
    "    y = r \n",
    "    p = 3 - 2 * r; \n",
    "    draw(xc, yc, x, y); \n",
    "    while (y >= x) : \n",
    "\n",
    "        if (p > 0) :\n",
    "        \n",
    "            p = p + 4 * (x - y) + 10\n",
    "            y=y-1 \n",
    "        \n",
    "        else:\n",
    "            p = p + 4 * x + 6\n",
    "        x=x+1\n",
    "        draw(xc, yc, x, y)\n",
    "        "
   ]
  },
  {
   "cell_type": "code",
   "execution_count": 5,
   "metadata": {},
   "outputs": [],
   "source": [
    "def draw(xc, yc, x, y):\n",
    " \n",
    "    Point(xc+x, yc+y ).draw(win) \n",
    "    Point(xc-x, yc+y ).draw(win) \n",
    "    Point(xc+x, yc-y ).draw(win) \n",
    "    Point(xc-x, yc-y ).draw(win) \n",
    "    Point(xc+y, yc+x ).draw(win) \n",
    "    Point(xc-y, yc+x ).draw(win) \n",
    "    Point(xc+y, yc-x ).draw(win) \n",
    "    Point(xc-y, yc-x ).draw(win) \n",
    "\n"
   ]
  },
  {
   "cell_type": "code",
   "execution_count": null,
   "metadata": {},
   "outputs": [],
   "source": []
  }
 ],
 "metadata": {
  "kernelspec": {
   "display_name": "Python 3",
   "language": "python",
   "name": "python3"
  },
  "language_info": {
   "codemirror_mode": {
    "name": "ipython",
    "version": 3
   },
   "file_extension": ".py",
   "mimetype": "text/x-python",
   "name": "python",
   "nbconvert_exporter": "python",
   "pygments_lexer": "ipython3",
   "version": "3.7.0"
  }
 },
 "nbformat": 4,
 "nbformat_minor": 2
}
